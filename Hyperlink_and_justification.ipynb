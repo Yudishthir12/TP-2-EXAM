{
  "nbformat": 4,
  "nbformat_minor": 0,
  "metadata": {
    "colab": {
      "provenance": [],
      "authorship_tag": "ABX9TyOhxosZwbqi5AiTabYXofbC",
      "include_colab_link": true
    },
    "kernelspec": {
      "name": "python3",
      "display_name": "Python 3"
    },
    "language_info": {
      "name": "python"
    }
  },
  "cells": [
    {
      "cell_type": "markdown",
      "metadata": {
        "id": "view-in-github",
        "colab_type": "text"
      },
      "source": [
        "<a href=\"https://colab.research.google.com/github/Yudishthir12/TP-2-EXAM/blob/main/Hyperlink_and_justification.ipynb\" target=\"_parent\"><img src=\"https://colab.research.google.com/assets/colab-badge.svg\" alt=\"Open In Colab\"/></a>"
      ]
    },
    {
      "cell_type": "markdown",
      "source": [
        "https://www.saps.gov.za/services/crimestats.php -\n",
        "This is the site that I used to download the dataset. If you scroll down to the bottom of the site you will be able to download the first and second quarter crime statistics\n",
        "\n",
        "https://www.saps.gov.za/services/downloads/2024/2024-2025_Q1_crime_stats.pdf - This is a PDF explains in detail the first quarter of 2024/2025 crime stats. This file gives a detailed description of methodologies of crime as well as the crime statistics analysis of the first quarter of the 2024/2025 financial year\n",
        "\n",
        "https://www.saps.gov.za/services/downloads/2024/2024-2025_Q2_crime_stats.pdf - This is a PDF explains in detail the second quarter of 2024/2025 crime stats. This file gives a detailed description of methodologies of crime as well as the crime statistics analysis of the second quarter of the 2024/2025 financial year"
      ],
      "metadata": {
        "id": "kQ8w4_mPFlBj"
      }
    },
    {
      "cell_type": "markdown",
      "source": [
        "**RELEVANCE**\n",
        "\n",
        "-\tThese datasets are relevant to the exam problem because they clearly identify all the crime statistics from the first and second quarter of the 2024/2025 year. Understanding crime patterns is crucial for public safety and these datasets help understand the crime in south Africa\n",
        "-\tForecasting will help to predict future crime rates based on the data the dataset has\n",
        "-\tClassification will categorise crimes by type, region, or severity to identify patterns or anomalies\n",
        "\n",
        "**COMPLETENESS**\n",
        "\n",
        "-\tTimespan: Covers Q1 and Q2 of 2024–2025. Limited to two quarters—useful for short-term analysis but not ideal for long-term trends.\n",
        "-\tGeographic coverage: Likely includes provincial breakdowns (e.g., Gauteng, KZN, Western Cape). If some provinces or districts are missing, this affects regional analysis.\n",
        "-\tVariables: Expected variables: crime type, number of incidents, location, date, possibly victim/perpetrator demographics.\n",
        "\n",
        "**CREDIBILITY**\n",
        "\n",
        "-\tSource type: Credible seeing as it is sourced from the SAPS website\n",
        "-\tLast updated date: 2024/2025\n",
        "\n",
        "**LIMITATIONS**\n",
        "\n",
        "-\tMissing regions: If rural or under-resourced areas are excluded, the data may skew toward urban crime.\n",
        "-\tOutdated data: Not a concern if the dataset covers 2024–2025\n",
        "-\tUnderreporting: Common in crime data—many incidents go unreported, especially gender-based violence and domestic abuse.\n",
        "-\tBias or skew: Data may reflect policing priorities rather than actual crime prevalence.\n"
      ],
      "metadata": {
        "id": "FX0Q96VfGx5C"
      }
    }
  ]
}